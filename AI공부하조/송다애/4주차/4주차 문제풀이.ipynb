{
  "nbformat": 4,
  "nbformat_minor": 0,
  "metadata": {
    "colab": {
      "name": "Untitled9.ipynb",
      "provenance": []
    },
    "kernelspec": {
      "name": "python3",
      "display_name": "Python 3"
    },
    "language_info": {
      "name": "python"
    }
  },
  "cells": [
    {
      "cell_type": "markdown",
      "source": [
        "#문제1"
      ],
      "metadata": {
        "id": "69peJeJ7yMjs"
      }
    },
    {
      "cell_type": "markdown",
      "source": [
        "1번 \n",
        "\n",
        "→ 3번 : 엔트로피 불순도가 낮을 수록 분류하기 좋은 상태 \n",
        "\n",
        "→ 5번 : 중요도가 낮다하여 그 특성이 유용하지 않은 것이 아니라 \n",
        "\n",
        "트리가 그 특성을 선택하지 않거나, 다른 특성이 동일한 정보를 지니고 있는 경우일 수 있다."
      ],
      "metadata": {
        "id": "zP83Oz8JyQm4"
      }
    },
    {
      "cell_type": "markdown",
      "source": [
        "#문제2"
      ],
      "metadata": {
        "id": "ojuk_wRUySU6"
      }
    },
    {
      "cell_type": "markdown",
      "source": [
        "2번 \n",
        "\n",
        "→ 3번 : 계산 속도가 느려지지 않는다\n",
        "\n",
        "→ 4번  : 연관성이 낮을 수록 오버피팅이 일어나지 않기 때문에 연관성이 높을 수록 성능이 낮다"
      ],
      "metadata": {
        "id": "ybup0jPvySRT"
      }
    },
    {
      "cell_type": "markdown",
      "source": [
        "#문제3"
      ],
      "metadata": {
        "id": "BKYR_J78yVcS"
      }
    },
    {
      "cell_type": "code",
      "source": [
        "import pandas as pd\n",
        "\n",
        "fish = pd.read_csv('https://bit.ly/fish_csv_data')\n",
        "\n",
        "fish_input = fish[['Weight','Length','Diagonal','Height','Width']].to_numpy()\n",
        "fish_target = fish['Species'].to_numpy()\n",
        "\n",
        "#data split\n",
        "from sklearn.model_selection import train_test_split\n",
        "\n",
        "train_input, test_input, train_target, test_target = train_test_split(\n",
        "    fish_input, fish_target, random_state=42)\n",
        "\n",
        "#preprocessing\n",
        "from sklearn.preprocessing import StandardScaler\n",
        "\n",
        "ss = StandardScaler()\n",
        "ss.fit(train_input)\n",
        "train_scaled = ss.transform(train_input)\n",
        "test_scaled = ss.transform(test_input)\n",
        "\n",
        "#LR\n",
        "from sklearn.linear_model import LogisticRegression\n",
        "\n",
        "lr = LogisticRegression(C=20, max_iter=1000)\n",
        "lr.fit(train_scaled, train_target)\n",
        "\n",
        "print(\"전 train_score = %f\"%(lr.score(train_scaled, train_target)))\n",
        "print(\"전 test_score = %f\"%(lr.score(test_scaled, test_target)))\n",
        "from sklearn.model_selection import GridSearchCV\n",
        "from sklearn.model_selection import cross_val_score, KFold\n",
        "from sklearn.svm import SVC\n",
        "param_grid = {\"C\": [0.0001,0.001,0.01,0.1,1,10,100,1000], \"gamma\" : [0.0001,0.001,0.01,0.1,1,10,100,1000]}\n",
        "kfold = KFold(n_splits=5, shuffle = True, random_state = 1)\n",
        "\n",
        "grid_search = GridSearchCV(SVC(), param_grid = param_grid, cv = kfold, return_train_score = True, n_jobs = -1).fit(train_scaled, train_target)\n",
        "print(\"후 train_score = %f\"%(lr.score(train_scaled, train_target)))\n",
        "print(\"후 test_score  = %f\"%(lr.score(test_scaled, test_target)))\n",
        "print(format(grid_search.best_params_))"
      ],
      "metadata": {
        "colab": {
          "base_uri": "https://localhost:8080/"
        },
        "id": "lbGkYwRiyMIP",
        "outputId": "d48bab23-bf2d-430d-b1cc-61f889430bde"
      },
      "execution_count": 18,
      "outputs": [
        {
          "output_type": "stream",
          "name": "stdout",
          "text": [
            "전 train_score = 0.932773\n",
            "전 test_score = 0.925000\n",
            "후 train_score = 0.932773\n",
            "후 test_score  = 0.925000\n",
            "{'C': 1000, 'gamma': 0.1}\n"
          ]
        }
      ]
    },
    {
      "cell_type": "markdown",
      "source": [
        "c값에 변화가 있다."
      ],
      "metadata": {
        "id": "sPzj8Z7-1zv7"
      }
    },
    {
      "cell_type": "markdown",
      "source": [
        "#문제4"
      ],
      "metadata": {
        "id": "Mgd-ZasxyZTm"
      }
    },
    {
      "cell_type": "markdown",
      "source": [
        "→ 2번 : 종속적으로 성능에 영향을 준다.\n",
        "\n",
        "→ 3번 : leave-one-out cross validation은 n개의 데이터 샘플을 활용해서 모델을 검증하는 방식, 선형 회귀, 다항식 회귀에서 더 느린 연산 속도를 가질 이유가 없다. 모델의 성능을 검사하는 것으로 n의 값이 클 수록 연산 속도가 느려질 수 있다."
      ],
      "metadata": {
        "id": "X7BrqQEsz51Z"
      }
    },
    {
      "cell_type": "markdown",
      "source": [
        "#문제5"
      ],
      "metadata": {
        "id": "65c1-_HAygLx"
      }
    },
    {
      "cell_type": "code",
      "source": [
        "from sklearn import datasets\n",
        "import pandas as pd\n",
        "import seaborn as sns\n",
        "from sklearn.tree import plot_tree\n",
        "from sklearn.tree import DecisionTreeClassifier\n",
        "planets=sns.load_dataset('planets')\n",
        "planets = planets.fillna(0)\n",
        "planets_input = planets[['number','orbital_period','mass','distance','year']].to_numpy()\n",
        "planets_target = planets['method'].to_numpy()\n",
        "\n",
        "#data split\n",
        "from sklearn.model_selection import train_test_split\n",
        "\n",
        "train_input, test_input, train_target, test_target = train_test_split(\n",
        "    planets_input, planets_target, random_state=42)\n",
        "\n",
        "tree=DecisionTreeClassifier(random_state=0)\n",
        "tree.fit(train_input, train_target)\n",
        "print(format(tree.score(train_input,train_target)))\n",
        "print(format(tree.score(test_input, test_target)))\n",
        "\n",
        "plot_tree(tree)\n",
        "plt.show"
      ],
      "metadata": {
        "colab": {
          "base_uri": "https://localhost:8080/",
          "height": 303
        },
        "id": "BV_BXleQ1OqB",
        "outputId": "0ff0c203-db3c-482b-8894-eb9cd6133387"
      },
      "execution_count": 21,
      "outputs": [
        {
          "output_type": "stream",
          "name": "stdout",
          "text": [
            "0.9974226804123711\n",
            "0.9305019305019305\n"
          ]
        },
        {
          "output_type": "execute_result",
          "data": {
            "text/plain": [
              "<function matplotlib.pyplot.show>"
            ]
          },
          "metadata": {},
          "execution_count": 21
        },
        {
          "output_type": "display_data",
          "data": {
            "text/plain": [
              "<Figure size 432x288 with 1 Axes>"
            ],
            "image/png": "[encoded data removed]"
          },
          "metadata": {
            "needs_background": "light"
          }
        }
      ]
    },
    {
      "cell_type": "code",
      "source": [
        ""
      ],
      "metadata": {
        "id": "VwZdWgwM1Yaq"
      },
      "execution_count": null,
      "outputs": []
    }
  ]
}