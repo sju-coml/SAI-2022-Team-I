{
  "nbformat": 4,
  "nbformat_minor": 0,
  "metadata": {
    "colab": {
      "name": "Untitled9.ipynb",
      "provenance": []
    },
    "kernelspec": {
      "name": "python3",
      "display_name": "Python 3"
    },
    "language_info": {
      "name": "python"
    }
  },
  "cells": [
    {
      "cell_type": "markdown",
      "source": [
        "#문제1"
      ],
      "metadata": {
        "id": "69peJeJ7yMjs"
      }
    },
    {
      "cell_type": "markdown",
      "source": [
        "4. GoogLeNet은 VGG19보다 적은 층으로 구성되어 있고 1x1 크기의 커널을 이용해 특성 개수를 줄여 VGG보다 성능이 더 좋다.\n",
        "\n",
        "→ GoogLeNet은 22개의 층으로 구성, VGG19는 19층으로 형성되어 더 많은 층으로 구성된다."
      ],
      "metadata": {
        "id": "zP83Oz8JyQm4"
      }
    },
    {
      "cell_type": "markdown",
      "source": [
        "#문제2"
      ],
      "metadata": {
        "id": "ojuk_wRUySU6"
      }
    },
    {
      "cell_type": "markdown",
      "source": [
        "4. 합성곱 층을 1개 이상 사용한 인공 신경망을 합성곱 신경망이라고 한다.\n",
        "\n",
        "→ 합성곱 신경망은 합성곱 연산을 사용하는 인공신경망이다."
      ],
      "metadata": {
        "id": "KjPztciC3APH"
      }
    },
    {
      "cell_type": "markdown",
      "source": [
        "#문제3"
      ],
      "metadata": {
        "id": "BKYR_J78yVcS"
      }
    },
    {
      "cell_type": "code",
      "source": [
        "#!pip install tensorflow-datasets\n",
        "import tensorflow as tf\n",
        "import tensorflow_datasets as tfds\n",
        "from tensorflow import keras\n",
        "from tensorflow.keras.layers import Conv2D, MaxPooling2D, Flatten, Dense\n",
        "\n",
        "#load dataset\n",
        "dataset_name = 'horses_or_humans'\n",
        "(train_raw, val_raw, test_raw), info = tfds.load(name=dataset_name,\n",
        "                    split=['train[:80%]', 'train[80%:90%]', 'train[90%:]'],\n",
        "                    with_info=True,\n",
        "                    as_supervised=True,\n",
        "                    shuffle_files=True,\n",
        "                    batch_size = None)\n",
        "\n",
        "#resize img\n",
        "def img_resize(image, label):\n",
        "    image = tf.cast(image, tf.float32)\n",
        "    image = image / 255.0\n",
        "    image = tf.image.resize(image, (224, 224))\n",
        "    return image, label\n",
        "\n",
        "train = train_raw.map(img_resize)\n",
        "val = val_raw.map(img_resize)\n",
        "test = test_raw.map(img_resize)\n",
        "\n",
        "\n",
        "#model\n",
        "model = keras.Sequential()\n",
        "model.add(Conv2D(input_shape=(224,224,3),filters=64,kernel_size=(3,3),padding=\"same\", activation=\"relu\"))\n",
        "model.add(Conv2D(filters=64,kernel_size=(3,3),padding=\"same\", activation=\"relu\"))\n",
        "model.add(MaxPooling2D(pool_size=(2, 2),strides=(2, 2)))\n",
        "model.add(Conv2D(filters=128, kernel_size=(3,3), padding=\"same\", activation=\"relu\"))\n",
        "model.add(Conv2D(filters=128, kernel_size=(3,3), padding=\"same\", activation=\"relu\"))\n",
        "model.add(MaxPooling2D(pool_size=(2, 2),strides=(2, 2)))\n",
        "model.add(Conv2D(filters=256, kernel_size=(3,3), padding=\"same\", activation=\"relu\"))\n",
        "model.add(Conv2D(filters=256, kernel_size=(3,3), padding=\"same\", activation=\"relu\"))\n",
        "model.add(Conv2D(filters=256, kernel_size=(3,3), padding=\"same\", activation=\"relu\"))\n",
        "model.add(MaxPooling2D(pool_size=(2, 2),strides=(2, 2)))\n",
        "model.add(Conv2D(filters=512, kernel_size=(3,3), padding=\"same\", activation=\"relu\"))\n",
        "model.add(Conv2D(filters=512, kernel_size=(3,3), padding=\"same\", activation=\"relu\"))\n",
        "model.add(Conv2D(filters=512, kernel_size=(3,3), padding=\"same\", activation=\"relu\"))\n",
        "model.add(MaxPooling2D(pool_size=(2, 2),strides=(2, 2)))\n",
        "model.add(Conv2D(filters=512, kernel_size=(3,3), padding=\"same\", activation=\"relu\"))\n",
        "model.add(Conv2D(filters=512, kernel_size=(3,3), padding=\"same\", activation=\"relu\"))\n",
        "model.add(Conv2D(filters=512, kernel_size=(3,3), padding=\"same\", activation=\"relu\"))\n",
        "model.add(MaxPooling2D(pool_size=(2, 2),strides=(2, 2)))\n",
        "model.add(Flatten())\n",
        "model.add(Dense(units=4096,activation=\"relu\"))\n",
        "model.add(Dense(units=4096,activation=\"relu\"))\n",
        "model.add(Dense(units=1000,activation=\"relu\"))\n",
        "model.add(Dense(units=1000,activation='softmax'))\n",
        "\n",
        "model.summary()\n",
        "\n",
        "#fit model\n",
        "opt = keras.optimizers.Adam(learning_rate=0.0001)\n",
        "model.compile(optimizer=opt, loss='sparse_categorical_crossentropy',metrics='accuracy')\n",
        "checkpoint_cb = keras.callbacks.ModelCheckpoint('best-cnn-model.h5',\n",
        "                                               save_best_only=True)\n",
        "early_stopping_cb = keras.callbacks.EarlyStopping(patience=2,\n",
        "                                                 restore_best_weights=True)\n",
        "\n",
        "history = model.fit(train, epochs=20,\n",
        "                   validation_data = val,\n",
        "                    batch_size=16,\n",
        "                   callbacks=[checkpoint_cb, early_stopping_cb])\n",
        "\n",
        "#fit result\n",
        "import matplotlib.pyplot as plt\n",
        "plt.plot(history.history['loss'])\n",
        "plt.plot(history.history['val_loss'])\n",
        "plt.xlabel('epoch')\n",
        "plt.ylabel('loss')\n",
        "plt.legend(['train', 'val'])\n",
        "plt.show()\n",
        "model.evaluate(test)"
      ],
      "metadata": {
        "id": "2WY8LIY93NOE"
      },
      "execution_count": null,
      "outputs": []
    },
    {
      "cell_type": "markdown",
      "source": [
        "#문제4"
      ],
      "metadata": {
        "id": "xtWEuOiU3CzX"
      }
    },
    {
      "cell_type": "markdown",
      "source": [
        "5. CNN의 특징 추출 영역은 convolution layer과 pooling layer과 flatten layer로 구성된다.\n",
        "\n",
        "→ flatten layer은 특징 추출 영역으로 구성되지 않는다."
      ],
      "metadata": {
        "id": "RYlXbFkW3CwY"
      }
    },
    {
      "cell_type": "markdown",
      "source": [
        "#문제5"
      ],
      "metadata": {
        "id": "DhNiciZg3PCU"
      }
    },
    {
      "cell_type": "code",
      "source": [
        "# 구글 드라이브랑 연동\n",
        "from google.colab import drive\n",
        "drive.mount('/content/drive')\n",
        "\n",
        "# 데이터 읽기\n",
        "path = \"/content/drive/MyDrive/RockPaperScissor\"\n",
        "train_dir = path+'/train-set'\n",
        "test_dir = path+'/test-set'"
      ],
      "metadata": {
        "id": "VwZdWgwM1Yaq"
      },
      "execution_count": null,
      "outputs": []
    },
    {
      "cell_type": "code",
      "source": [
        "# 데이터 별 사진 분류 클래스\n",
        "import os\n",
        "classes = os.listdir(train_dir)\n",
        "\n",
        "# 데이터 정리하기\n",
        "import cv2\n",
        "X_input = []\n",
        "y_input = []\n",
        "for i, cls in enumerate(os.listdir(train_dir)):\n",
        "  for img in os.listdir(os.path.join(train_dir, cls)):\n",
        "    image = cv2.imread(os.path.join(train_dir,cls,img), cv2.IMREAD_GRAYSCALE)\n",
        "    X_input.append(image)\n",
        "    y_input.append(i)\n",
        "\n",
        "X_test = []\n",
        "y_test = []\n",
        "for i, cls in enumerate(os.listdir(test_dir)):\n",
        "  for img in os.listdir(os.path.join(test_dir, cls)):\n",
        "    image = cv2.imread(os.path.join(test_dir,cls,img), cv2.IMREAD_GRAYSCALE)\n",
        "    X_test.append(image)\n",
        "    y_test.append(i)\n",
        "\n",
        "import numpy as np\n",
        "X_test = np.array(X_test)\n",
        "y_test = np.array(y_test)\n",
        "X_input = np.array(X_input)\n",
        "y_input = np.array(y_input)"
      ],
      "metadata": {
        "id": "3mlvdQwG3Qvk"
      },
      "execution_count": null,
      "outputs": []
    },
    {
      "cell_type": "code",
      "source": [
        "import matplotlib.pyplot as plt\n",
        "\n",
        "fig, axs = plt.subplots(1, 10, figsize=(20, 20))\n",
        "for i in range(10):\n",
        "  axs[i].imshow(X_input[i], cmap='gray_r')\n",
        "  axs[i].axis('off')\n",
        "plt.show()"
      ],
      "metadata": {
        "id": "AU6dXL803Qna"
      },
      "execution_count": null,
      "outputs": []
    },
    {
      "cell_type": "code",
      "source": [
        "# train set와 validation set 나누기\n",
        "from sklearn.model_selection import train_test_split\n",
        "X_train, X_val, y_train, y_val = train_test_split(X_input, y_input, test_size = 0.2, stratify= y_input)\n",
        "\n",
        "# 이미지 전처리\n",
        "X_train = X_train/255\n",
        "X_val = X_val/255\n",
        "X_test = X_test/255\n",
        "\n",
        "X_train = X_train.reshape(*(X_train.shape),1)\n",
        "X_val = X_val.reshape(*(X_val.shape),1)\n",
        "X_test = X_test.reshape(*(X_test.shape),1)"
      ],
      "metadata": {
        "id": "y_mJvrUB3Ul6"
      },
      "execution_count": null,
      "outputs": []
    },
    {
      "cell_type": "code",
      "source": [
        "# 합성곱 신경망 만들기\n",
        "from tensorflow import keras\n",
        "from tensorflow import keras\n",
        "model = keras.Sequential()\n",
        "\n",
        "model.add(keras.layers.Conv2D(32,(3,3),activation = 'relu',padding = 'same', input_shape = (300,300,1)))\n",
        "model.add(keras.layers.MaxPooling2D(2))\n",
        "model.add(keras.layers.Conv2D(64,(3,3),activation = 'relu',padding = 'same'))\n",
        "model.add(keras.layers.MaxPooling2D(2))\n",
        "model.add(keras.layers.Conv2D(128,(3,3),activation = 'relu',padding = 'same'))\n",
        "model.add(keras.layers.MaxPooling2D(2))\n",
        "model.add(keras.layers.Conv2D(256, (3,3),activation = 'relu',padding = 'same'))\n",
        "model.add(keras.layers.MaxPooling2D(2))\n",
        "\n",
        "model.add(keras.layers.Flatten())\n",
        "model.add(keras.layers.Dropout(0.3))\n",
        "model.add(keras.layers.Dense(512,activation = 'relu'))\n",
        "model.add(keras.layers.Dropout(0.3))\n",
        "model.add(keras.layers.Dense(256, activation = 'relu'))\n",
        "model.add(keras.layers.Dropout(0.3))\n",
        "model.add(keras.layers.Dense(128, activation = 'relu'))\n",
        "model.add(keras.layers.Dropout(0.3))\n",
        "model.add(keras.layers.Dense(3, activation = 'softmax'))\n",
        "\n",
        "# 층의 구성 그림으로 표현\n",
        "keras.utils.plot_model(model)"
      ],
      "metadata": {
        "id": "cii64UKp3VMA"
      },
      "execution_count": null,
      "outputs": []
    },
    {
      "cell_type": "code",
      "source": [
        "# 모델 컴파일과 훈련\n",
        "model.compile(optimizer='adam', loss='sparse_categorical_crossentropy',metrics='accuracy')\n",
        "\n",
        "checkpoint_cb = keras.callbacks.ModelCheckpoint('best-cnn-model.h5',save_best_only=True)\n",
        "early_stopping_cb = keras.callbacks.EarlyStopping(patience=2, restore_best_weights=True)\n",
        "model.fit(X_train, y_train, epochs=100, validation_data=(X_val, y_val), callbacks=[checkpoint_cb, early_stopping_cb])"
      ],
      "metadata": {
        "id": "ZVVniSVB3XUw"
      },
      "execution_count": null,
      "outputs": []
    }
  ]
}