{
  "nbformat": 4,
  "nbformat_minor": 0,
  "metadata": {
    "colab": {
      "name": "Untitled9.ipynb",
      "provenance": []
    },
    "kernelspec": {
      "name": "python3",
      "display_name": "Python 3"
    },
    "language_info": {
      "name": "python"
    }
  },
  "cells": [
    {
      "cell_type": "markdown",
      "source": [
        "#문제1"
      ],
      "metadata": {
        "id": "69peJeJ7yMjs"
      }
    },
    {
      "cell_type": "markdown",
      "source": [
        "**다음 중 결정 트리에 관한 질문 중 틀린 것을 모두 고르시오.** \n",
        "\n",
        "1. 결정 트리 알고리즘은 부모와 자식 노드 사이의 불순도 차이가 최대화되도록 학습한다.\n",
        "2. 결정트리에 아무 파라미터도 주지 않은 채 학습하면 오버피팅된다.\n",
        "3. 이진 분류에서 지니 불순도의 최대 값은 0.5이고 클수록 분류하기 좋지 않고, 엔트로피 불순도는 낮을수록 분류하기 좋지 않다.\n",
        "4. 결정트리에서 특성 중요도는 분류를 순수하게 잘 한 기여도이고, 특성 중요도가 높을 수록 해당 노드가 중요한 분류 기준이라는 것을 의미한다. \n",
        "5. 특성 중요도가 낮다는 것은 유용하지 않은 특성이다.\n",
        "\n",
        "3번, 5번"
      ],
      "metadata": {
        "id": "zP83Oz8JyQm4"
      }
    },
    {
      "cell_type": "markdown",
      "source": [
        "#문제2"
      ],
      "metadata": {
        "id": "ojuk_wRUySU6"
      }
    },
    {
      "cell_type": "markdown",
      "source": [
        "**다음 내용 중 틀린 설명을 모두 고르시오.**\n",
        "\n",
        "1. 집단의 데이터 개수만큼을 복원 추출하는 bootstrap은 모집단과 표본 집단을 추정 가능하게 한다.\n",
        "2. Histogram-based Gradient Boosting은 정형 데이터를 높은 성능으로 다룬다.\n",
        "3. 트리의 랜덤성이 클수록 방대한 양의 트리를 훈련해야 하기 때문에 필연적으로 계산 속도가 느려지는 문제가 발생한다.\n",
        "4. random forest에서 각각의 트리는 오버피팅 될 수 있으나 각  트리의 연관성이 높을수록 random forest의 성능이 높아진다.\n",
        "5. 회귀와 분류 모두에 이용 가능한 gradient boosting은 손실 함수, 약한 학습자들을 포함한다.\n",
        "\n",
        "정답: 3번, 4번"
      ],
      "metadata": {
        "id": "KjPztciC3APH"
      }
    },
    {
      "cell_type": "markdown",
      "source": [
        "#문제3"
      ],
      "metadata": {
        "id": "hASm1iLrSo-a"
      }
    },
    {
      "cell_type": "code",
      "source": [
        "import pandas as pd\n",
        "import numpy as np\n",
        "\n",
        "\n",
        "fish = pd.read_csv('https://bit.ly/fish_csv_data')\n",
        "\n",
        "fish_input = fish[['Weight','Length','Diagonal','Height','Width']].to_numpy()\n",
        "fish_target = fish['Species'].to_numpy()\n",
        "\n",
        "#data split\n",
        "from sklearn.model_selection import train_test_split\n",
        "\n",
        "train_input, test_input, train_target, test_target = train_test_split(\n",
        "    fish_input, fish_target, random_state=42)\n",
        "\n",
        "print(train_target.shape, test_target.shape)\n",
        "\n",
        "#preprocessing\n",
        "from sklearn.preprocessing import StandardScaler\n",
        "\n",
        "ss = StandardScaler()\n",
        "ss.fit(train_input)\n",
        "train_scaled = ss.transform(train_input)\n",
        "test_scaled = ss.transform(test_input)\n",
        "\n",
        "#LR\n",
        "from sklearn.linear_model import LogisticRegression\n",
        "\n",
        "lr = LogisticRegression(C=20, max_iter=1000)\n",
        "lr.fit(train_scaled, train_target)\n",
        "\n",
        "print(lr.score(train_scaled, train_target))\n",
        "print(lr.score(test_scaled, test_target))\n",
        "\n",
        "from sklearn.model_selection import GridSearchCV\n",
        "\n",
        "params = {'C': np.arange(1,200, 10)}\n",
        "gs = GridSearchCV(LogisticRegression(max_iter=1000), params, n_jobs=-1)\n",
        "gs.fit(train_scaled, train_target)\n",
        "\n",
        "dt = gs.best_estimator_\n",
        "print(dt.score(train_scaled, train_target))\n",
        "print(dt.score(test_scaled, test_target))\n",
        "print(gs.best_params_)"
      ],
      "metadata": {
        "colab": {
          "base_uri": "https://localhost:8080/"
        },
        "id": "v-SEd3FwSrtL",
        "outputId": "7b1eb1a2-782b-4668-c8e4-390246d70a00"
      },
      "execution_count": 8,
      "outputs": [
        {
          "output_type": "stream",
          "name": "stdout",
          "text": [
            "(119,) (40,)\n",
            "0.9327731092436975\n",
            "0.925\n"
          ]
        },
        {
          "output_type": "stream",
          "name": "stderr",
          "text": [
            "/usr/local/lib/python3.7/dist-packages/sklearn/model_selection/_split.py:680: UserWarning: The least populated class in y has only 3 members, which is less than n_splits=5.\n",
            "  UserWarning,\n"
          ]
        },
        {
          "output_type": "stream",
          "name": "stdout",
          "text": [
            "0.9915966386554622\n",
            "0.925\n",
            "{'C': 191}\n"
          ]
        }
      ]
    },
    {
      "cell_type": "markdown",
      "source": [
        "#문제4"
      ],
      "metadata": {
        "id": "yx4sjo9zSo7B"
      }
    },
    {
      "cell_type": "markdown",
      "source": [
        "**다음 중 결정 트리에 관한 질문 중 틀린 것을 모두 고르시오.** \n",
        "\n",
        "1. 8-겹 교차 검증을 사용할 때 훈련에 사용되는 데이터는 전체 데이터의 87.5%이다.\n",
        "2. 모델에서 각각의 하이퍼파라미터는 독립적으로 모델의 성능에 영향을 미친다.\n",
        "3. Leave One Out Cross Validation은 Leanear regression과 polynomial regression 모델에서 더 느린 연산 속도를 가진다.\n",
        "4. K-fold cross validation은 LOO cross validation에 비해 연산량이 적다.\n",
        "5. Validation set Approach는 LOO cross validation에 비해 bias가 높다.\n",
        "6. LOO cross validation는 모든 특성을 validation으로 사용하기 때문에 Variance은 낮다.\n",
        "\n",
        "정답: 2번, 3번, 6번"
      ],
      "metadata": {
        "id": "e-sWDCzoTXXE"
      }
    },
    {
      "cell_type": "code",
      "source": [
        "from sklearn import datasets\n",
        "import pandas as pd\n",
        "import seaborn as sns\n",
        "planets=sns.load_dataset('planets')\n",
        "\n",
        "planets.info()\n",
        "\n",
        "\n",
        "planets = planets.fillna(0)\n",
        "\n",
        "data = planets[['number', 'orbital_period', 'mass', 'distance', 'year']].to_numpy()\n",
        "target = planets[['method']].to_numpy()\n",
        "\n",
        "\n",
        "from sklearn.model_selection import train_test_split\n",
        "\n",
        "train_input, test_input, train_target, test_target = train_test_split(data, target, test_size=0.2)\n",
        "\n",
        "print(train_input.shape, test_input.shape)\n",
        "\n",
        "#np.any(np.isnan(data))\n",
        "\n",
        "from sklearn.preprocessing import StandardScaler\n",
        "\n",
        "ss = StandardScaler()\n",
        "ss.fit(train_input)\n",
        "train_scaled = ss.transform(train_input)\n",
        "test_scaled = ss.transform(test_input)\n",
        "\n",
        "from sklearn.tree import DecisionTreeClassifier\n",
        "dt = DecisionTreeClassifier()\n",
        "\n",
        "dt.fit( train_scaled, train_target)\n",
        "\n",
        "print(dt.score(train_scaled, train_target))\n",
        "print(dt.score(test_scaled, test_target))\n",
        "\n",
        "import matplotlib.pyplot as plt\n",
        "from sklearn.tree import plot_tree\n",
        "plt.figure(figsize = (10,7))\n",
        "\n",
        "plot_tree(dt)\n",
        "plt.show()"
      ],
      "metadata": {
        "colab": {
          "base_uri": "https://localhost:8080/",
          "height": 706
        },
        "id": "vkXR-ZnSSvcB",
        "outputId": "4a9844d2-0d27-4c33-8582-b4880e032f1a"
      },
      "execution_count": 9,
      "outputs": [
        {
          "output_type": "stream",
          "name": "stdout",
          "text": [
            "<class 'pandas.core.frame.DataFrame'>\n",
            "RangeIndex: 1035 entries, 0 to 1034\n",
            "Data columns (total 6 columns):\n",
            " #   Column          Non-Null Count  Dtype  \n",
            "---  ------          --------------  -----  \n",
            " 0   method          1035 non-null   object \n",
            " 1   number          1035 non-null   int64  \n",
            " 2   orbital_period  992 non-null    float64\n",
            " 3   mass            513 non-null    float64\n",
            " 4   distance        808 non-null    float64\n",
            " 5   year            1035 non-null   int64  \n",
            "dtypes: float64(3), int64(2), object(1)\n",
            "memory usage: 48.6+ KB\n",
            "(828, 5) (207, 5)\n",
            "0.998792270531401\n",
            "0.9227053140096618\n"
          ]
        },
        {
          "output_type": "display_data",
          "data": {
            "text/plain": [
              "<Figure size 720x504 with 1 Axes>"
            ],
            "image/png": "[encoded data removed]"
          },
          "metadata": {
            "needs_background": "light"
          }
        }
      ]
    },
    {
      "cell_type": "code",
      "source": [
        ""
      ],
      "metadata": {
        "id": "tbbANWPZUNqB"
      },
      "execution_count": null,
      "outputs": []
    }
  ]
}