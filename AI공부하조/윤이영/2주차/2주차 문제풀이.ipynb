{
  "nbformat": 4,
  "nbformat_minor": 0,
  "metadata": {
    "colab": {
      "name": "Untitled9.ipynb",
      "provenance": []
    },
    "kernelspec": {
      "name": "python3",
      "display_name": "Python 3"
    },
    "language_info": {
      "name": "python"
    }
  },
  "cells": [
    {
      "cell_type": "markdown",
      "source": [
        "#문제1"
      ],
      "metadata": {
        "id": "69peJeJ7yMjs"
      }
    },
    {
      "cell_type": "markdown",
      "source": [
        "다음 중 linear regression 과 Multiple linear regression에 대한 설명으로 틀린 것을 모두 고르세요\n",
        "\n",
        "1. 독립 변수의 개수는?\n",
        "\n",
        "2. 가중치의 개수는?\n",
        "\n",
        "3. 각 독립변수, 종속변수 간의 관계는?\n",
        " \n",
        "4. 선형 회귀 계산 식을 행렬을 이용하여 [A,B]*[C,D]=[E,F]로 표현할 때 B의 값은?\n",
        "여기서 [A,B]는 입력 행렬, [C, D]는 가중치 행렬, [E, F]는 출력 행렬이다.\n",
        "\n",
        "5. 4번 행렬에서 B와 C의 관계는?\n",
        "\n",
        "정답: 2,4,5"
      ],
      "metadata": {
        "id": "zP83Oz8JyQm4"
      }
    },
    {
      "cell_type": "markdown",
      "source": [
        "#문제2"
      ],
      "metadata": {
        "id": "ojuk_wRUySU6"
      }
    },
    {
      "cell_type": "markdown",
      "source": [
        "다음 중 머신러닝, 딥러닝에서 중요하게 쓰이는 평가 지표에 대한 설명으로 틀린 것을 골라주세요\n",
        "\n",
        "1. 모델의 성능을 평가하기 위해선 실제 값과 모델에 의해 예측된 값의 차이를 구해야 하는데 여기서 차이가 작아지는 방향으로 학습을 시켜야한다.\n",
        "\n",
        "2. MSE : 제곱을 하는 방식을 사용하는데 이 때문에 오차에 대해 좀 더 민감하다 \n",
        "\n",
        "3. R2 결정계수 : 오차와 R2 결정계수는 비례한다\n",
        " \n",
        "4. MAE : 결과 값에 따라 직관적으로 증감을 쉽게 알 수가 있다.\n",
        "\n",
        "정답: 3"
      ],
      "metadata": {
        "id": "KjPztciC3APH"
      }
    },
    {
      "cell_type": "markdown",
      "source": [
        "#문제3"
      ],
      "metadata": {
        "id": "hASm1iLrSo-a"
      }
    },
    {
      "cell_type": "code",
      "source": [
        "import pandas as pd\n",
        "from sklearn.metrics import mean_squared_error\n",
        "\n",
        "st=[2,125]\n",
        "df = pd.DataFrame({'month': [1,3,5,7,9,11],\n",
        "                   'stockprice':[130, 128, 132, 140, 153, 150]})\n",
        "\n",
        "df['predict'] = st[0]*df['month']+st[1]\n",
        "mse = mean_squared_error(df['stockprice'], df['predict'])\n",
        "p_12 = st[0]*12+st[1]\n",
        "\n",
        "for i in range(6):\n",
        "  M = df['month'][i]\n",
        "  P = df['predict'][i]\n",
        "  print(f'{M}월 예상 주가. 예측 주가 = {P}')\n",
        "\n",
        "print(f\"최종 mse : {mse}\")\n",
        "print(f\"12월 예상 주가: {p_12}\")"
      ],
      "metadata": {
        "colab": {
          "base_uri": "https://localhost:8080/"
        },
        "id": "v-SEd3FwSrtL",
        "outputId": "d6bc81da-5681-4ba0-db50-bd3716810ad9"
      },
      "execution_count": 7,
      "outputs": [
        {
          "output_type": "stream",
          "name": "stdout",
          "text": [
            "1월 예상 주가. 예측 주가 = 127\n",
            "3월 예상 주가. 예측 주가 = 131\n",
            "5월 예상 주가. 예측 주가 = 135\n",
            "7월 예상 주가. 예측 주가 = 139\n",
            "9월 예상 주가. 예측 주가 = 143\n",
            "11월 예상 주가. 예측 주가 = 147\n",
            "최종 mse : 22.833333333333332\n",
            "12월 예상 주가: 149\n"
          ]
        }
      ]
    },
    {
      "cell_type": "markdown",
      "source": [
        "#문제4"
      ],
      "metadata": {
        "id": "yx4sjo9zSo7B"
      }
    },
    {
      "cell_type": "markdown",
      "source": [
        "Ridge , Lasso 에 대한 설명으로 옳은 것을 고르세요\n",
        "\n",
        "1. Regularization 중 Ridge, Lasso말고 흔하게 부르는 다른 이름은?\n",
        "2. 변수 사이의 상관 관계가 높은 데이터 일수록 예측력이~?\n",
        "3. 잔자제곱합을 사용하나?\n",
        "4. 방향성?\n",
        "5. 과대적합 과소적합\n",
        "\n",
        "정답 : 5"
      ],
      "metadata": {
        "id": "e-sWDCzoTXXE"
      }
    },
    {
      "cell_type": "code",
      "source": [
        "import numpy as np\n",
        "df = df.rename({'sepal length (cm)': 'splength', \t\n",
        "                        'sepal width (cm)': 'spwidth',\n",
        "                        'petal length (cm)': 'ptlength',\t\n",
        "                        'petal width (cm)': 'ptwidth'}, axis='columns')\n",
        "\n",
        "print(df)\n",
        "\n",
        "#그래프 그리기\n",
        "mean = np.mean(df['splength'], axis=0)\n",
        "std = np.std(df['splength'], axis=0)\n",
        "scaled_spl = (df['splength']-mean)/std\n",
        "\n",
        "mean = np.mean(df['spwidth'], axis=0)\n",
        "std = np.std(df['spwidth'], axis=0)\n",
        "scaled_spw = (df['spwidth']-mean)/std\n",
        "\n",
        "mean = np.mean(df['ptlength'], axis=0)\n",
        "std = np.std(df['ptlength'], axis=0)\n",
        "scaled_ptl = (df['ptlength']-mean)/std\n",
        "\n",
        "mean = np.mean(df['ptwidth'], axis=0)\n",
        "std = np.std(df['ptwidth'], axis=0)\n",
        "scaled_ptw = (df['ptwidth']-mean)/std\n",
        "\n",
        "plt.figure(figsize=(6,8))\n",
        "plt.subplot(2,1,1)\n",
        "plt.scatter(scaled_spl, scaled_spw, c='r')\n",
        "\n",
        "plt.subplot(2,1,2)\n",
        "plt.scatter(scaled_ptl,scaled_ptw, c='b')\n",
        "plt.show()"
      ],
      "metadata": {
        "colab": {
          "base_uri": "https://localhost:8080/",
          "height": 741
        },
        "id": "vkXR-ZnSSvcB",
        "outputId": "a189af42-ea13-4a1c-84bd-f66169420f82"
      },
      "execution_count": 3,
      "outputs": [
        {
          "output_type": "stream",
          "name": "stdout",
          "text": [
            "     splength  spwidth  ptlength  ptwidth\n",
            "0         5.1      3.5       1.4      0.2\n",
            "1         4.9      3.0       1.4      0.2\n",
            "2         4.7      3.2       1.3      0.2\n",
            "3         4.6      3.1       1.5      0.2\n",
            "4         5.0      3.6       1.4      0.2\n",
            "..        ...      ...       ...      ...\n",
            "145       6.7      3.0       5.2      2.3\n",
            "146       6.3      2.5       5.0      1.9\n",
            "147       6.5      3.0       5.2      2.0\n",
            "148       6.2      3.4       5.4      2.3\n",
            "149       5.9      3.0       5.1      1.8\n",
            "\n",
            "[150 rows x 4 columns]\n"
          ]
        },
        {
          "output_type": "display_data",
          "data": {
            "text/plain": [
              "<Figure size 432x576 with 2 Axes>"
            ],
            "image/png": "[encoded data removed]"
          },
          "metadata": {
            "needs_background": "light"
          }
        }
      ]
    }
  ]
}