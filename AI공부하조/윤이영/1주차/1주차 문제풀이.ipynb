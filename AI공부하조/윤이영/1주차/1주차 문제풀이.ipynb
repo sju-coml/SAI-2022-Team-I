{
  "nbformat": 4,
  "nbformat_minor": 0,
  "metadata": {
    "colab": {
      "name": "Untitled9.ipynb",
      "provenance": []
    },
    "kernelspec": {
      "name": "python3",
      "display_name": "Python 3"
    },
    "language_info": {
      "name": "python"
    }
  },
  "cells": [
    {
      "cell_type": "markdown",
      "source": [
        "#문제1"
      ],
      "metadata": {
        "id": "69peJeJ7yMjs"
      }
    },
    {
      "cell_type": "markdown",
      "source": [
        "다음중 Supervised learning과 Unsupervised learning에 대하여 틀리게 설명한 것을 골라 주세요.\n",
        "\n",
        "1. Supervised learning은 지도학습이라고 불리며 특정 사진을 보고 개인지 고양이인지 분류하는 모델을 만들 수 있다.\n",
        "2. Unsupervised learning은 비지도학습이라고 불리며 여러 동물 사진을 특징 별로 군집화를 할 수 있다.\n",
        "3. Supervised learning은 feature가 여러 개여도 문제없이 학습이 가능하다.\n",
        "4. **Unsupervised learning은 데이터 중 training set이 없어도 학습이 가능하다.**\n",
        "\n",
        "→ 지도학습과 비지도학습 모두 training set가 필요함"
      ],
      "metadata": {
        "id": "zP83Oz8JyQm4"
      }
    },
    {
      "cell_type": "markdown",
      "source": [
        "#문제2"
      ],
      "metadata": {
        "id": "ojuk_wRUySU6"
      }
    },
    {
      "cell_type": "markdown",
      "source": [
        "Dataset에 대한 설명 중 틀린 것을 모두 골라 주세요.\n",
        "\n",
        "1. 학습이 끝난 후 모델 평가에 쓰이는 Test set은 Train set에서 사용하지 않은 데이터여야 한다.\n",
        "2. 1.의 이유는 평가를 할 때에는 모델이 본 적있는 데이터가 아닌 처음 보는 데이터로 해야하기 때문이다.\n",
        "3. **Dataset을 Train set : Test set = 1 : 1 비율로 나누면 Overfitting이 발생할 수 있다.**\n",
        "4. Overfitting을 방지하기 위한 방법으로 Validation set를 만드는 방법이 있다.\n",
        "5. **Validation set의 사용 목적은 Test set과 일치한다.**"
      ],
      "metadata": {
        "id": "KjPztciC3APH"
      }
    },
    {
      "cell_type": "markdown",
      "source": [
        "#문제3"
      ],
      "metadata": {
        "id": "hASm1iLrSo-a"
      }
    },
    {
      "cell_type": "code",
      "source": [
        "import pandas as pd\n",
        "import matplotlib.pyplot as plt\n",
        "from sklearn.datasets import load_iris\n",
        "iris = load_iris()\n",
        "\n",
        "#데이터프레임 사용\n",
        "iris['data']\n",
        "df = pd.DataFrame(iris['data'], columns=iris['feature_names'])\n",
        "df\n",
        "\n",
        "#그래프 그리기\n",
        "plt.figure(figsize=(6,8))\n",
        "plt.subplot(2,1,1)\n",
        "plt.scatter(df['sepal length (cm)'], df['sepal width (cm)'], c='r')\n",
        "plt.xlabel('sepal length (cm)')\n",
        "plt.ylabel('sepal width (cm)')\n",
        "\n",
        "\n",
        "plt.subplot(2,1,2)\n",
        "plt.scatter(df['petal length (cm)'], df['petal width (cm)'], c='b')\n",
        "plt.xlabel('petal length (cm)\t')\n",
        "plt.ylabel('petal width (cm)')\n",
        "plt.show()"
      ],
      "metadata": {
        "colab": {
          "base_uri": "https://localhost:8080/",
          "height": 573
        },
        "id": "v-SEd3FwSrtL",
        "outputId": "44718614-831b-41a2-b14a-c4e7d33e0e89"
      },
      "execution_count": 2,
      "outputs": [
        {
          "output_type": "stream",
          "name": "stderr",
          "text": [
            "/usr/local/lib/python3.7/dist-packages/matplotlib/backends/backend_agg.py:214: RuntimeWarning: Glyph 9 missing from current font.\n",
            "  font.set_text(s, 0.0, flags=flags)\n",
            "/usr/local/lib/python3.7/dist-packages/matplotlib/backends/backend_agg.py:183: RuntimeWarning: Glyph 9 missing from current font.\n",
            "  font.set_text(s, 0, flags=flags)\n"
          ]
        },
        {
          "output_type": "display_data",
          "data": {
            "text/plain": [
              "<Figure size 432x576 with 2 Axes>"
            ],
            "image/png": "[encoded data removed]"
          },
          "metadata": {
            "needs_background": "light"
          }
        }
      ]
    },
    {
      "cell_type": "markdown",
      "source": [
        "#문제4"
      ],
      "metadata": {
        "id": "yx4sjo9zSo7B"
      }
    },
    {
      "cell_type": "code",
      "source": [
        "import numpy as np\n",
        "df = df.rename({'sepal length (cm)': 'splength', \t\n",
        "                        'sepal width (cm)': 'spwidth',\n",
        "                        'petal length (cm)': 'ptlength',\t\n",
        "                        'petal width (cm)': 'ptwidth'}, axis='columns')\n",
        "\n",
        "print(df)\n",
        "\n",
        "#그래프 그리기\n",
        "mean = np.mean(df['splength'], axis=0)\n",
        "std = np.std(df['splength'], axis=0)\n",
        "scaled_spl = (df['splength']-mean)/std\n",
        "\n",
        "mean = np.mean(df['spwidth'], axis=0)\n",
        "std = np.std(df['spwidth'], axis=0)\n",
        "scaled_spw = (df['spwidth']-mean)/std\n",
        "\n",
        "mean = np.mean(df['ptlength'], axis=0)\n",
        "std = np.std(df['ptlength'], axis=0)\n",
        "scaled_ptl = (df['ptlength']-mean)/std\n",
        "\n",
        "mean = np.mean(df['ptwidth'], axis=0)\n",
        "std = np.std(df['ptwidth'], axis=0)\n",
        "scaled_ptw = (df['ptwidth']-mean)/std\n",
        "\n",
        "plt.figure(figsize=(6,8))\n",
        "plt.subplot(2,1,1)\n",
        "plt.scatter(scaled_spl, scaled_spw, c='r')\n",
        "\n",
        "plt.subplot(2,1,2)\n",
        "plt.scatter(scaled_ptl,scaled_ptw, c='b')\n",
        "plt.show()"
      ],
      "metadata": {
        "colab": {
          "base_uri": "https://localhost:8080/",
          "height": 741
        },
        "id": "vkXR-ZnSSvcB",
        "outputId": "a189af42-ea13-4a1c-84bd-f66169420f82"
      },
      "execution_count": 3,
      "outputs": [
        {
          "output_type": "stream",
          "name": "stdout",
          "text": [
            "     splength  spwidth  ptlength  ptwidth\n",
            "0         5.1      3.5       1.4      0.2\n",
            "1         4.9      3.0       1.4      0.2\n",
            "2         4.7      3.2       1.3      0.2\n",
            "3         4.6      3.1       1.5      0.2\n",
            "4         5.0      3.6       1.4      0.2\n",
            "..        ...      ...       ...      ...\n",
            "145       6.7      3.0       5.2      2.3\n",
            "146       6.3      2.5       5.0      1.9\n",
            "147       6.5      3.0       5.2      2.0\n",
            "148       6.2      3.4       5.4      2.3\n",
            "149       5.9      3.0       5.1      1.8\n",
            "\n",
            "[150 rows x 4 columns]\n"
          ]
        },
        {
          "output_type": "display_data",
          "data": {
            "text/plain": [
              "<Figure size 432x576 with 2 Axes>"
            ],
            "image/png": "[encoded data removed]"
          },
          "metadata": {
            "needs_background": "light"
          }
        }
      ]
    },
    {
      "cell_type": "markdown",
      "source": [
        "#문제5"
      ],
      "metadata": {
        "id": "R1Y2byH9So2n"
      }
    },
    {
      "cell_type": "code",
      "source": [
        "from sklearn import datasets,preprocessing\n",
        "import numpy as np\n",
        "from matplotlib import pyplot as plt\n",
        "\n",
        "wine = datasets.load_wine(as_frame=True)\n",
        "\n",
        "x_scaled = preprocessing.scale(wine.data)\n",
        "\n",
        "from sklearn.model_selection import train_test_split\n",
        "\n",
        "X_train, X_test, y_train, y_test = train_test_split(x_scaled, wine.target, test_size= 0.2    )\n",
        "\n",
        "from sklearn.neighbors import KNeighborsClassifier\n",
        "\n",
        "knn = KNeighborsClassifier(n_neighbors= 5 )\n",
        "\n",
        "knn.fit(X_train, y_train)\n",
        "knn.score(X_test, y_test)"
      ],
      "metadata": {
        "colab": {
          "base_uri": "https://localhost:8080/"
        },
        "id": "fGagSvhtSnrR",
        "outputId": "20ae0206-04d5-4a11-d39c-ddfe0b87392f"
      },
      "execution_count": 6,
      "outputs": [
        {
          "output_type": "execute_result",
          "data": {
            "text/plain": [
              "0.9722222222222222"
            ]
          },
          "metadata": {},
          "execution_count": 6
        }
      ]
    }
  ]
}