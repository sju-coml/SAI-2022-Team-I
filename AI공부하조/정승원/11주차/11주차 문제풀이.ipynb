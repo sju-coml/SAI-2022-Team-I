{
  "nbformat": 4,
  "nbformat_minor": 0,
  "metadata": {
    "colab": {
      "name": "Untitled9.ipynb",
      "provenance": []
    },
    "kernelspec": {
      "name": "python3",
      "display_name": "Python 3"
    },
    "language_info": {
      "name": "python"
    }
  },
  "cells": [
    {
      "cell_type": "markdown",
      "source": [
        "#문제1"
      ],
      "metadata": {
        "id": "69peJeJ7yMjs"
      }
    },
    {
      "cell_type": "markdown",
      "source": [
        "답\n",
        "\n",
        "1, 4\n",
        "\n",
        "풀이\n",
        "\n",
        "1. VGGNet은 2014년에 AlexNet은 2012년에 개발되었다.\n",
        "\n",
        "4. GoogleNet은 19개 층을 가진 VGG19보다 더 많은 층을 가지고 있다"
      ],
      "metadata": {
        "id": "zP83Oz8JyQm4"
      }
    },
    {
      "cell_type": "markdown",
      "source": [
        "#문제2"
      ],
      "metadata": {
        "id": "ojuk_wRUySU6"
      }
    },
    {
      "cell_type": "markdown",
      "source": [
        "답\n",
        "\n",
        "1\n",
        "\n",
        "풀이\n",
        "\n",
        "1. ‘뉴런’, ‘필터’, ‘커널’ 모두 같은 말이다"
      ],
      "metadata": {
        "id": "1bgeq7QjcFSO"
      }
    }
  ]
}