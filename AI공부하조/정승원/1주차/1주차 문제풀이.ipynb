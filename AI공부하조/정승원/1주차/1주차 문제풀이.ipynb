{
  "nbformat": 4,
  "nbformat_minor": 0,
  "metadata": {
    "colab": {
      "name": "Untitled9.ipynb",
      "provenance": []
    },
    "kernelspec": {
      "name": "python3",
      "display_name": "Python 3"
    },
    "language_info": {
      "name": "python"
    }
  },
  "cells": [
    {
      "cell_type": "markdown",
      "source": [
        "#문제1"
      ],
      "metadata": {
        "id": "69peJeJ7yMjs"
      }
    },
    {
      "cell_type": "markdown",
      "source": [
        "다음중 Supervised learning과 Unsupervised learning에 대하여 틀리게 설명한 것을 골라 주세요.\n",
        "\n",
        "1. Supervised learning은 지도학습이라고 불리며 특정 사진을 보고 개인지 고양이인지 분류하는 모델을 만들 수 있다.\n",
        "2. Unsupervised learning은 비지도학습이라고 불리며 여러 동물 사진을 특징 별로 군집화를 할 수 있다.\n",
        "3. Supervised learning은 feature가 여러 개여도 문제없이 학습이 가능하다.\n",
        "4. Unsupervised learning은 데이터 중 training set이 없어도 학습이 가능하다.\n",
        "\n",
        "—> 4번. Unsupervised learning과 Supervised learning 모두 training set이 필요하다. 다만 target 데이터가 없을 때는 Unsupervised를, 있을 때는 Supervised 사용한다."
      ],
      "metadata": {
        "id": "zP83Oz8JyQm4"
      }
    },
    {
      "cell_type": "markdown",
      "source": [
        "#문제2"
      ],
      "metadata": {
        "id": "ojuk_wRUySU6"
      }
    },
    {
      "cell_type": "markdown",
      "source": [
        "Dataset에 대한 설명 중 틀린 것을 모두 골라 주세요.\n",
        "\n",
        "1. 학습이 끝난 후 모델 평가에 쓰이는 Test set은 Train set에서 사용하지 않은 데이터여야 한다.\n",
        "2. 1.의 이유는 평가를 할 때에는 모델이 본 적있는 데이터가 아닌 처음 보는 데이터로 해야하기 때문이다.\n",
        "3. Dataset을 Train set : Test set = 1 : 1 비율로 나누면 Overfitting이 발생할 수 있다.\n",
        "4. Overfitting을 방지하기 위한 방법으로 Validation set를 만드는 방법이 있다.\n",
        "5. Validation set의 사용 목적은 Test set과 일치한다.\n",
        "\n",
        "—> 5번, Validation set은 여러 모델들 각각에 적용되어 성능을 측정하며, 최종 모델을 선정하기 위해 사용된다. 반면 test set은 최종 모델에 대해 마지막으로 정확도를 측정하며, 앞으로 기대되는 성능을 예측하기 위해 사용된다는 점에서 Validation set과 사용 목적이 다르다."
      ],
      "metadata": {
        "id": "DPJ2W5iuVCFt"
      }
    },
    {
      "cell_type": "markdown",
      "source": [
        "#문제3"
      ],
      "metadata": {
        "id": "hASm1iLrSo-a"
      }
    },
    {
      "cell_type": "code",
      "source": [
        "#모듈 불러오기\n",
        "import pandas as pd\n",
        "\n",
        "#iris 데이터를 데이터프레임화 시키기\n",
        "f_names = iris['feature_names']\n",
        "data = iris['data']\n",
        "df = pd.DataFrame(data, columns = f_names)\n",
        "\n",
        "#column이름 재설정\n",
        "df.rename(columns = {'sepal length (cm)' : 'sepal length',\n",
        "           'sepal width (cm)' : 'sepal width',\n",
        "           'petal length (cm)' : 'petal length',\n",
        "           'petal width (cm)' : 'petal width'}, inplace = True)\n",
        "\n",
        "#산점도 그리기\n",
        "plt.figure(figsize = (8,6))\n",
        "plt.subplot(2,1,1)\n",
        "plt.scatter(df['sepal length'], df['sepal width'], c = 'red')\n",
        "plt.xlabel('sepal legnth (cm)')\n",
        "plt.ylabel('sepal width (cm)')\n",
        "plt.subplot(2,1,2)\n",
        "plt.scatter(df['petal length'], df['petal width'], c = 'blue')\n",
        "plt.xlabel('petal length (cm)')\n",
        "plt.ylabel('petal width (cm)')\n",
        "plt.show()"
      ],
      "metadata": {
        "colab": {
          "base_uri": "https://localhost:8080/",
          "height": 391
        },
        "id": "KNe2C1yxVEoW",
        "outputId": "4cb31453-7d89-4f80-a9b6-ce723c91e60b"
      },
      "execution_count": 11,
      "outputs": [
        {
          "output_type": "display_data",
          "data": {
            "text/plain": [
              "<Figure size 576x432 with 2 Axes>"
            ],
            "image/png": "[encoded data removed]"
          },
          "metadata": {
            "needs_background": "light"
          }
        }
      ]
    },
    {
      "cell_type": "markdown",
      "source": [
        "#문제4"
      ],
      "metadata": {
        "id": "yx4sjo9zSo7B"
      }
    },
    {
      "cell_type": "code",
      "source": [
        "mean = np.mean(df['sepal length'], axis = 0)\n",
        "std = np.std(df['sepal length'], axis = 0)\n",
        "scaled_sl = (df['sepal length'] - mean) / std\n",
        "\n",
        "mean = np.mean(df['sepal width'], axis = 0)\n",
        "std = np.std(df['sepal width'], axis = 0)\n",
        "scaled_sw = (df['sepal width'] - mean) / std\n",
        "\n",
        "mean = np.mean(df['petal length'], axis = 0)\n",
        "std = np.std(df['petal length'], axis = 0)\n",
        "scaled_pl = (df['petal length'] - mean) / std\n",
        "\n",
        "mean = np.mean(df['petal width'], axis = 0)\n",
        "std = np.std(df['petal width'], axis = 0)\n",
        "scaled_pw = (df['petal width'] - mean) / std\n",
        "\n",
        "fig = plt.figure(figsize = (8,6))\n",
        "plt.subplot(2,1,1)\n",
        "plt.scatter(scaled_sl, scaled_sw, c = 'red')\n",
        "plt.xlabel('scaled sepal length')\n",
        "plt.ylabel('scaled sepal width')\n",
        "plt.subplot(2,1,2)\n",
        "plt.scatter(scaled_pl, scaled_pw, c = 'blue')\n",
        "plt.xlabel('scaled petal length')\n",
        "plt.ylabel('scaled petal width')\n",
        "plt.show()"
      ],
      "metadata": {
        "colab": {
          "base_uri": "https://localhost:8080/",
          "height": 388
        },
        "id": "tbbANWPZUNqB",
        "outputId": "e219c4a6-d5ef-4b24-a73f-468e6432eb03"
      },
      "execution_count": 12,
      "outputs": [
        {
          "output_type": "display_data",
          "data": {
            "text/plain": [
              "<Figure size 576x432 with 2 Axes>"
            ],
            "image/png": "[encoded data removed]"
          },
          "metadata": {
            "needs_background": "light"
          }
        }
      ]
    },
    {
      "cell_type": "markdown",
      "source": [
        "#5번"
      ],
      "metadata": {
        "id": "f67b6N6gVJwz"
      }
    },
    {
      "cell_type": "code",
      "source": [
        "from sklearn import datasets,preprocessing\n",
        "import numpy as np\n",
        "from matplotlib import pyplot as plt\n",
        "\n",
        "wine = datasets.load_wine(as_frame=True)\n",
        "\n",
        "x_scaled = preprocessing.scale(wine.data)\n",
        "\n",
        "from sklearn.model_selection import train_test_split\n",
        "\n",
        "X_train, X_test, y_train, y_test = train_test_split(x_scaled, wine.target, test_size= 0.25)\n",
        "\n",
        "from sklearn.neighbors import KNeighborsClassifier\n",
        "\n",
        "knn = KNeighborsClassifier(n_neighbors= 5)\n",
        "\n",
        "knn.fit(X_train, y_train)\n",
        "knn.score(X_test, y_test)"
      ],
      "metadata": {
        "colab": {
          "base_uri": "https://localhost:8080/"
        },
        "id": "lFA0IKsEVHUm",
        "outputId": "a0b5f8b9-8e18-4afd-ff02-ccc0068c12d0"
      },
      "execution_count": 13,
      "outputs": [
        {
          "output_type": "execute_result",
          "data": {
            "text/plain": [
              "0.9333333333333333"
            ]
          },
          "metadata": {},
          "execution_count": 13
        }
      ]
    },
    {
      "cell_type": "markdown",
      "source": [
        "KNeighborsClassifier 함수에서 n_neighbors는 knn 모델을 학습시키기 전에 몇 개의 이웃을 참고해서 모델을 학습시킬 것인지 정하는 인자이다. default 값은 5이다"
      ],
      "metadata": {
        "id": "QAp-z4fIVMCb"
      }
    },
    {
      "cell_type": "code",
      "source": [
        ""
      ],
      "metadata": {
        "id": "9j6g1PE4VJOQ"
      },
      "execution_count": null,
      "outputs": []
    }
  ]
}